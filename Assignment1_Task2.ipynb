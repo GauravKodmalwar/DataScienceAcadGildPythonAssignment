{
 "cells": [
  {
   "cell_type": "markdown",
   "metadata": {},
   "source": [
    "<h3> Question 1 in Task 2 </h3>"
   ]
  },
  {
   "cell_type": "code",
   "execution_count": 10,
   "metadata": {},
   "outputs": [
    {
     "name": "stdout",
     "output_type": "stream",
     "text": [
      "List created from your provided values is here: ['12', '45', '65', '32', '67']\n"
     ]
    }
   ],
   "source": [
    "userProvidedString = input(\"provide a comma seperated numbers to create a list of number\")\n",
    "\n",
    "createdList = [i for i in userProvidedString.split(',') if i.isnumeric()]\n",
    "\n",
    "print(\"List created from your provided values is here:\" , createdList)"
   ]
  },
  {
   "cell_type": "markdown",
   "metadata": {},
   "source": [
    "<h3> Question 2 in Task 2 </h3>"
   ]
  },
  {
   "cell_type": "code",
   "execution_count": 17,
   "metadata": {},
   "outputs": [
    {
     "name": "stdout",
     "output_type": "stream",
     "text": [
      "*\n",
      "**\n",
      "***\n",
      "****\n",
      "*****\n",
      "****\n",
      "***\n",
      "**\n",
      "*\n"
     ]
    }
   ],
   "source": [
    "outvar = ''\n",
    "for i in range(9):\n",
    "    if(i < 5):\n",
    "        outvar += '*'\n",
    "        print(outvar)\n",
    "    else:\n",
    "        outvar = outvar[0:-1]\n",
    "        print(outvar)"
   ]
  },
  {
   "cell_type": "markdown",
   "metadata": {},
   "source": [
    "<h3> Question 3 in Task 2 </h3>"
   ]
  },
  {
   "cell_type": "code",
   "execution_count": 19,
   "metadata": {},
   "outputs": [
    {
     "name": "stdout",
     "output_type": "stream",
     "text": [
      "varuag\n"
     ]
    }
   ],
   "source": [
    "userValue = input(\"enter something to reverse it\")\n",
    "\n",
    "print(userValue[::-1])"
   ]
  },
  {
   "cell_type": "markdown",
   "metadata": {},
   "source": [
    "<h3> Question 4 in Task 2 </h3>"
   ]
  },
  {
   "cell_type": "code",
   "execution_count": 35,
   "metadata": {},
   "outputs": [
    {
     "data": {
      "text/plain": [
       "'WE, THE PEOPLE OF INDIA,                                                                                 having solemny resolved to constitute India into a SOVERIGN,                                            SOCIALIST, SECULAR, DEMOCRATIC REPUBLIC                                                                 and to secure to all its citizens'"
      ]
     },
     "execution_count": 35,
     "metadata": {},
     "output_type": "execute_result"
    }
   ],
   "source": [
    "text = \"WE, THE PEOPLE OF INDIA, \\t\\t\\t\\t\\t\\t\\t\\t\\t\\t having solemny resolved to constitute India into a SOVERIGN, \\t\\t\\t\\t\\t\\t SOCIALIST, SECULAR, DEMOCRATIC REPUBLIC \\t\\t\\t\\t\\t\\t\\t\\t and to secure to all its citizens\"\n",
    "text.expandtabs()"
   ]
  },
  {
   "cell_type": "code",
   "execution_count": null,
   "metadata": {},
   "outputs": [],
   "source": []
  }
 ],
 "metadata": {
  "kernelspec": {
   "display_name": "Python 3",
   "language": "python",
   "name": "python3"
  },
  "language_info": {
   "codemirror_mode": {
    "name": "ipython",
    "version": 3
   },
   "file_extension": ".py",
   "mimetype": "text/x-python",
   "name": "python",
   "nbconvert_exporter": "python",
   "pygments_lexer": "ipython3",
   "version": "3.6.5"
  }
 },
 "nbformat": 4,
 "nbformat_minor": 2
}
